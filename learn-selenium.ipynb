{
 "cells": [
  {
   "cell_type": "code",
   "id": "initial_id",
   "metadata": {
    "collapsed": true,
    "ExecuteTime": {
     "end_time": "2024-09-01T17:17:07.920379Z",
     "start_time": "2024-09-01T17:17:07.911290Z"
    }
   },
   "source": [
    "from selenium import webdriver\n",
    "from selenium.webdriver.common.keys import Keys\n",
    "from selenium.webdriver.common.by import By"
   ],
   "outputs": [],
   "execution_count": 3
  },
  {
   "metadata": {
    "ExecuteTime": {
     "end_time": "2024-09-01T17:36:36.228502Z",
     "start_time": "2024-09-01T17:36:34.066666Z"
    }
   },
   "cell_type": "code",
   "source": [
    "driver = webdriver.Chrome()\n",
    "driver.get(\"https://betboom.ru/sport/live/ice-hockey\") "
   ],
   "id": "e93ddb7ab97c817d",
   "outputs": [],
   "execution_count": 23
  },
  {
   "metadata": {
    "ExecuteTime": {
     "end_time": "2024-09-01T17:37:16.045576Z",
     "start_time": "2024-09-01T17:36:37.875169Z"
    }
   },
   "cell_type": "code",
   "source": [
    "matches = driver.find_elements(By.CSS_SELECTOR, \"div[class^='src-sportbook-common-components-MatchMiniCard-components-Card-__card--Ur2bE\")\n",
    "matches"
   ],
   "id": "f3c33fd897e0b934",
   "outputs": [
    {
     "data": {
      "text/plain": [
       "[<selenium.webdriver.remote.webelement.WebElement (session=\"f94157d35553c64151510e4e1ec57361\", element=\"f.94C5BF0BF89D92C6CBAA4200BEE656F3.d.A9BB91BEF96451BCDC27EE4D5E593280.e.109\")>,\n",
       " <selenium.webdriver.remote.webelement.WebElement (session=\"f94157d35553c64151510e4e1ec57361\", element=\"f.94C5BF0BF89D92C6CBAA4200BEE656F3.d.A9BB91BEF96451BCDC27EE4D5E593280.e.110\")>,\n",
       " <selenium.webdriver.remote.webelement.WebElement (session=\"f94157d35553c64151510e4e1ec57361\", element=\"f.94C5BF0BF89D92C6CBAA4200BEE656F3.d.A9BB91BEF96451BCDC27EE4D5E593280.e.111\")>]"
      ]
     },
     "execution_count": 24,
     "metadata": {},
     "output_type": "execute_result"
    }
   ],
   "execution_count": 24
  },
  {
   "metadata": {
    "ExecuteTime": {
     "end_time": "2024-09-01T17:41:05.729409Z",
     "start_time": "2024-09-01T17:41:05.508942Z"
    }
   },
   "cell_type": "code",
   "source": [
    "teams = []\n",
    "scores = []\n",
    "for match in matches:\n",
    "    try:\n",
    "        # Ищет все элементы с названиями команд внутри текущего матча\n",
    "        team_elements = match.find_elements(By.CSS_SELECTOR, \"span[class^='src-sportbook-common-components-MatchMiniCard-components-Players-Player-__title--']\")\n",
    "        \n",
    "        for team in team_elements:\n",
    "            teams.append(team.text)\n",
    "            \n",
    "        score_elements = match.find_elements(By.CSS_SELECTOR, \"span[class^='src-sportbook-common-components-MatchMiniCard-components-Score-__scoreValue--']\")\n",
    "        \n",
    "        for score in score_elements:\n",
    "            scores.append(score.text)\n",
    "            \n",
    "            \n",
    "    \n",
    "    except Exception as e:\n",
    "        print(f\"Произошла ошибка: {e}\")"
   ],
   "id": "6e9967cf979773e6",
   "outputs": [],
   "execution_count": 37
  },
  {
   "metadata": {
    "ExecuteTime": {
     "end_time": "2024-09-01T17:41:07.100301Z",
     "start_time": "2024-09-01T17:41:07.094515Z"
    }
   },
   "cell_type": "code",
   "source": "teams",
   "id": "2fa392f3b0b1239c",
   "outputs": [
    {
     "data": {
      "text/plain": [
       "['Спартак М', 'ЦСКА М', 'Словакия', 'Казахстан', 'Зальцбург', 'Йокерит']"
      ]
     },
     "execution_count": 38,
     "metadata": {},
     "output_type": "execute_result"
    }
   ],
   "execution_count": 38
  },
  {
   "metadata": {
    "ExecuteTime": {
     "end_time": "2024-09-01T17:41:08.604303Z",
     "start_time": "2024-09-01T17:41:08.599636Z"
    }
   },
   "cell_type": "code",
   "source": "scores",
   "id": "4261e303798b579e",
   "outputs": [
    {
     "data": {
      "text/plain": [
       "['2', '1', '2', '2', '0', '0', '3', '1', '0', '0', '0', '3']"
      ]
     },
     "execution_count": 39,
     "metadata": {},
     "output_type": "execute_result"
    }
   ],
   "execution_count": 39
  },
  {
   "metadata": {},
   "cell_type": "code",
   "outputs": [],
   "execution_count": null,
   "source": "",
   "id": "4d8dc0cf2f89f09b"
  }
 ],
 "metadata": {
  "kernelspec": {
   "display_name": "Python 3",
   "language": "python",
   "name": "python3"
  },
  "language_info": {
   "codemirror_mode": {
    "name": "ipython",
    "version": 2
   },
   "file_extension": ".py",
   "mimetype": "text/x-python",
   "name": "python",
   "nbconvert_exporter": "python",
   "pygments_lexer": "ipython2",
   "version": "2.7.6"
  }
 },
 "nbformat": 4,
 "nbformat_minor": 5
}
